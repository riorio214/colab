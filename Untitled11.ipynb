{
  "nbformat": 4,
  "nbformat_minor": 0,
  "metadata": {
    "colab": {
      "provenance": [],
      "authorship_tag": "ABX9TyNdQbEcT8nuG7+I76z5Z4sZ",
      "include_colab_link": true
    },
    "kernelspec": {
      "name": "python3",
      "display_name": "Python 3"
    },
    "language_info": {
      "name": "python"
    }
  },
  "cells": [
    {
      "cell_type": "markdown",
      "metadata": {
        "id": "view-in-github",
        "colab_type": "text"
      },
      "source": [
        "<a href=\"https://colab.research.google.com/github/riorio214/colab/blob/main/Untitled11.ipynb\" target=\"_parent\"><img src=\"https://colab.research.google.com/assets/colab-badge.svg\" alt=\"Open In Colab\"/></a>"
      ]
    },
    {
      "cell_type": "code",
      "execution_count": 1,
      "metadata": {
        "id": "RN18zwINqo0g"
      },
      "outputs": [],
      "source": [
        "# 단계 1: 폰트 설치\n",
        "import matplotlib.font_manager as fm\n",
        "import matplotlib.pyplot as plt\n",
        "!apt-get -qq -y install fonts-nanum > /dev/null\n",
        "#fontpath = '/usr/share/fonts/truetype/nanum/NanumBarunGothic.ttf'\n",
        "\n",
        "#font = fm.FontProperties(fname=fontpath, size=9)\n",
        "\n",
        "#fm._rebuild()\n",
        "\n",
        "\n",
        "\n",
        "fe = fm.FontEntry(\n",
        "    fname=r'/usr/share/fonts/truetype/nanum/NanumBarunGothic.ttf', # ttf 파일이 저장되어 있는 경로\n",
        "    name='NanumGothic')                        # 이 폰트의 원하는 이름 설정\n",
        "fm.fontManager.ttflist.insert(0, fe)              # Matplotlib에 폰트 추가\n",
        "plt.rcParams.update({'font.size': 18, 'font.family': 'NanumGothic'}) # 폰트 설"
      ]
    },
    {
      "cell_type": "code",
      "source": [
        "\n",
        "# 단계 2: 런타임 재시작\n",
        "import os\n",
        "os.kill(os.getpid(), 9)"
      ],
      "metadata": {
        "id": "tG9iUhaAsmZ_"
      },
      "execution_count": null,
      "outputs": []
    },
    {
      "cell_type": "code",
      "source": [
        "# 단계 3: 한글 폰트 설정\n",
        "import matplotlib.pyplot as plt\n",
        "import matplotlib as mpl\n",
        "import matplotlib.font_manager as fm\n",
        "\n",
        "# 마이너스 표시 문제\n",
        "mpl.rcParams['axes.unicode_minus'] = False\n",
        "\n",
        "# 한글 폰트 설정\n",
        "fe = fm.FontEntry(\n",
        "    fname=r'/usr/share/fonts/truetype/nanum/NanumBarunGothic.ttf', # ttf 파일이 저장되어 있는 경로\n",
        "    name='NanumGothic')                        # 이 폰트의 원하는 이름 설정\n",
        "fm.fontManager.ttflist.insert(0, fe)              # Matplotlib에 폰트 추가\n",
        "plt.rcParams.update({'font.size': 18, 'font.family': 'NanumGothic'}) # 폰트 설"
      ],
      "metadata": {
        "id": "rxx_o4f8snCp"
      },
      "execution_count": 1,
      "outputs": []
    },
    {
      "cell_type": "code",
      "source": [
        "import pandas as pd\n",
        "\n",
        "df = pd.read_csv('/content/daegu.csv', encoding='cp949')\n",
        "\n",
        "dataset = df[['상호명','지점명',\n",
        "              '상권업종대분류코드','상권업종중분류명', '표준산업분류명',\n",
        "              '시도명', '시군구명', '행정동명',\n",
        "              '위도', '경도']]\n",
        "\n",
        "filtered_data = dataset[\n",
        "    (dataset['상권업종중분류명'].str.contains('오락용품')) &\n",
        "    (dataset['표준산업분류명'].str.contains('인형')) &\n",
        "    (dataset['상권업종대분류코드'] == 'G2') &\n",
        "    (~dataset['상호명'].str.contains('낚시|피싱|루어|레고|프라모델|전자|상사|스포츠|레저|불교|조합|드론'))\n",
        "]\n",
        "print(filtered_data)\n",
        "filtered_data.to_csv('/content/a.csv', index=False, encoding='cp949')"
      ],
      "metadata": {
        "colab": {
          "base_uri": "https://localhost:8080/"
        },
        "id": "DhwBP5NCsis8",
        "outputId": "edd024c3-6d1c-4c08-f03a-ec57714422b4"
      },
      "execution_count": null,
      "outputs": [
        {
          "output_type": "stream",
          "name": "stderr",
          "text": [
            "<ipython-input-15-0e49e3502575>:3: DtypeWarning: Columns (2) have mixed types. Specify dtype option on import or set low_memory=False.\n",
            "  df = pd.read_csv('/content/daegu.csv', encoding='cp949')\n"
          ]
        },
        {
          "output_type": "stream",
          "name": "stdout",
          "text": [
            "             상호명  지점명 상권업종대분류코드 상권업종중분류명             표준산업분류명    시도명 시군구명  \\\n",
            "50           키티영  NaN        G2  오락용품 소매  게임용구, 인형 및 장난감 소매업  대구광역시   중구   \n",
            "1915        죠이레져  NaN        G2  오락용품 소매  게임용구, 인형 및 장난감 소매업  대구광역시   북구   \n",
            "1958      김치빌리아드  NaN        G2  오락용품 소매  게임용구, 인형 및 장난감 소매업  대구광역시   중구   \n",
            "3052      스마일슬라임  NaN        G2  오락용품 소매  게임용구, 인형 및 장난감 소매업  대구광역시  달성군   \n",
            "4073          와드  NaN        G2  오락용품 소매  게임용구, 인형 및 장난감 소매업  대구광역시   남구   \n",
            "...          ...  ...       ...      ...                 ...    ...  ...   \n",
            "104034  서재장난감도서관  NaN        G2  오락용품 소매  게임용구, 인형 및 장난감 소매업  대구광역시  달성군   \n",
            "104047  논공장난감도서관  NaN        G2  오락용품 소매  게임용구, 인형 및 장난감 소매업  대구광역시  달성군   \n",
            "104185  다사장난감도서관  NaN        G2  오락용품 소매  게임용구, 인형 및 장난감 소매업  대구광역시  달성군   \n",
            "107053    대구완구토이  NaN        G2  오락용품 소매  게임용구, 인형 및 장난감 소매업  대구광역시   중구   \n",
            "109893        일삼  NaN        G2  오락용품 소매  게임용구, 인형 및 장난감 소매업  대구광역시   중구   \n",
            "\n",
            "        행정동명         위도          경도  \n",
            "50       대신동  35.870532  128.581064  \n",
            "1915    태전1동  35.915686  128.543013  \n",
            "1958     대신동  35.863258  128.575452  \n",
            "3052     다사읍  35.875304  128.495560  \n",
            "4073    봉덕1동  35.846883  128.593556  \n",
            "...      ...        ...         ...  \n",
            "104034   다사읍  35.871994  128.493956  \n",
            "104047   논공읍  35.730451  128.452002  \n",
            "104185   다사읍  35.864820  128.457315  \n",
            "107053   동인동  35.870085  128.602278  \n",
            "109893  성내1동  35.872235  128.597709  \n",
            "\n",
            "[115 rows x 10 columns]\n"
          ]
        }
      ]
    },
    {
      "cell_type": "code",
      "source": [
        "import pandas as pd\n",
        "\n",
        "df2 = pd.read_csv('/content/busan.csv', encoding='cp949')\n",
        "\n",
        "dataset2 = df2[['상호명','지점명',\n",
        "              '상권업종대분류코드','상권업종중분류명', '표준산업분류명',\n",
        "              '시도명', '시군구명', '행정동명',\n",
        "              '위도', '경도']]\n",
        "\n",
        "# NaN 값을 체크하고 NaN인 경우 False로 채우는 조건 추가\n",
        "filtered_data = dataset2[\n",
        "    (dataset2['상권업종중분류명'].str.contains('오락용품')) &\n",
        "    (dataset2['표준산업분류명'].str.contains('인형')) &\n",
        "    (dataset2['상권업종대분류코드'] == 'G2') &\n",
        "    (~dataset2['상호명'].str.contains('낚시|피싱|루어|레고|프라모델|전자|상사|스포츠|레저|불교|조합|드론|고래|바다|어부|강태공|당구', na=False))\n",
        "]\n",
        "print(filtered_data)\n",
        "filtered_data.to_csv('/content/b.csv', index=False, encoding='cp949')"
      ],
      "metadata": {
        "id": "Hfr7iJ4rVVin",
        "colab": {
          "base_uri": "https://localhost:8080/"
        },
        "outputId": "86a01585-5f21-4eb7-e43c-1b4a1b6d5b5a"
      },
      "execution_count": null,
      "outputs": [
        {
          "output_type": "stream",
          "name": "stderr",
          "text": [
            "<ipython-input-11-d4cd26e205eb>:3: DtypeWarning: Columns (2) have mixed types. Specify dtype option on import or set low_memory=False.\n",
            "  df2 = pd.read_csv('/content/busan.csv', encoding='cp949')\n"
          ]
        },
        {
          "output_type": "stream",
          "name": "stdout",
          "text": [
            "                     상호명  지점명 상권업종대분류코드 상권업종중분류명             표준산업분류명    시도명  \\\n",
            "2781                젤리피코  NaN        G2  오락용품 소매  게임용구, 인형 및 장난감 소매업  부산광역시   \n",
            "6056             삼성출판사롯데  NaN        G2  오락용품 소매  게임용구, 인형 및 장난감 소매업  부산광역시   \n",
            "8677                제이굿즈  NaN        G2  오락용품 소매  게임용구, 인형 및 장난감 소매업  부산광역시   \n",
            "8939               아이빅토이  NaN        G2  오락용품 소매  게임용구, 인형 및 장난감 소매업  부산광역시   \n",
            "10121                 신화  NaN        G2  오락용품 소매  게임용구, 인형 및 장난감 소매업  부산광역시   \n",
            "...                  ...  ...       ...      ...                 ...    ...   \n",
            "138754  플레이타임그룹부산온천장점챔피언  NaN        G2  오락용품 소매  게임용구, 인형 및 장난감 소매업  부산광역시   \n",
            "138755    플레이타임그룹삼정타워챔피언  서면점        G2  오락용품 소매  게임용구, 인형 및 장난감 소매업  부산광역시   \n",
            "140613              동래셔플  NaN        G2  오락용품 소매  게임용구, 인형 및 장난감 소매업  부산광역시   \n",
            "140678          대원미디어리펀샵  부산점        G2  오락용품 소매  게임용구, 인형 및 장난감 소매업  부산광역시   \n",
            "150822             당근뽑기방  NaN        G2  오락용품 소매  게임용구, 인형 및 장난감 소매업  부산광역시   \n",
            "\n",
            "        시군구명  행정동명         위도          경도  \n",
            "2781    부산진구  범천2동  35.147530  129.051730  \n",
            "6056     동래구  온천2동  35.211726  129.077500  \n",
            "8677    부산진구  부전2동  35.153725  129.059789  \n",
            "8939    해운대구   송정동  35.179713  129.197031  \n",
            "10121   부산진구  양정2동  35.173071  129.075881  \n",
            "...      ...   ...        ...         ...  \n",
            "138754   동래구  온천1동  35.221308  129.085601  \n",
            "138755  부산진구  부전2동  35.153023  129.059626  \n",
            "140613   동래구  온천3동  35.204359  129.073779  \n",
            "140678  부산진구  부전2동  35.153023  129.059626  \n",
            "150822   기장군   정관읍  35.320503  129.175380  \n",
            "\n",
            "[126 rows x 10 columns]\n"
          ]
        }
      ]
    },
    {
      "cell_type": "code",
      "source": [
        "import pandas as pd\n",
        "\n",
        "df3 = pd.read_csv('/content/seoul.csv', encoding='cp949')\n",
        "\n",
        "dataset3 = df3[['상호명','지점명',\n",
        "              '상권업종대분류코드','상권업종중분류명', '표준산업분류명',\n",
        "              '시도명', '시군구명', '행정동명',\n",
        "              '위도', '경도']]\n",
        "\n",
        "# NaN 값을 체크하고 NaN인 경우 False로 채우는 조건 추가\n",
        "filtered_data = dataset3[\n",
        "    (dataset3['상권업종중분류명'].str.contains('오락용품')) &\n",
        "    (dataset3['표준산업분류명'].str.contains('인형')) &\n",
        "    (dataset3['상권업종대분류코드'] == 'G2') &\n",
        "    (~dataset3['상호명'].str.contains('낚시|피싱|루어|레고|프라모델|전자|상사|스포츠|레저|불교|조합|드론|고래|바다|어부|강태공|당구', na=False))\n",
        "]\n",
        "print(filtered_data)\n",
        "filtered_data.to_csv('/content/c.csv', index=False, encoding='cp949')"
      ],
      "metadata": {
        "colab": {
          "base_uri": "https://localhost:8080/"
        },
        "id": "uDih2XZnAsn2",
        "outputId": "793ce70a-95c8-4f3f-8ca4-4097caaceade"
      },
      "execution_count": null,
      "outputs": [
        {
          "output_type": "stream",
          "name": "stderr",
          "text": [
            "<ipython-input-14-9821dfb9eef1>:3: DtypeWarning: Columns (2) have mixed types. Specify dtype option on import or set low_memory=False.\n",
            "  df3 = pd.read_csv('/content/seoul.csv', encoding='cp949')\n"
          ]
        },
        {
          "output_type": "stream",
          "name": "stdout",
          "text": [
            "                상호명  지점명 상권업종대분류코드 상권업종중분류명             표준산업분류명    시도명  시군구명  \\\n",
            "2884      브라더스인터내셔널  NaN        G2  오락용품 소매  게임용구, 인형 및 장난감 소매업  서울특별시   강북구   \n",
            "4153            파란문  NaN        G2  오락용품 소매  게임용구, 인형 및 장난감 소매업  서울특별시   광진구   \n",
            "4720            보드붐  NaN        G2  오락용품 소매  게임용구, 인형 및 장난감 소매업  서울특별시   종로구   \n",
            "6872          별사탕상점  NaN        G2  오락용품 소매  게임용구, 인형 및 장난감 소매업  서울특별시  영등포구   \n",
            "7528         아이디어플랩  NaN        G2  오락용품 소매  게임용구, 인형 및 장난감 소매업  서울특별시   종로구   \n",
            "...             ...  ...       ...      ...                 ...    ...   ...   \n",
            "474765     슬라임238카페  NaN        G2  오락용품 소매  게임용구, 인형 및 장난감 소매업  서울특별시  동대문구   \n",
            "476056      제이에스스토어  NaN        G2  오락용품 소매  게임용구, 인형 및 장난감 소매업  서울특별시   마포구   \n",
            "480746         코코헨나  NaN        G2  오락용품 소매  게임용구, 인형 및 장난감 소매업  서울특별시   마포구   \n",
            "481261  스페이스골드글램핑산업  NaN        G2  오락용품 소매  게임용구, 인형 및 장난감 소매업  서울특별시   금천구   \n",
            "481595       클라우드캔디  NaN        G2  오락용품 소매  게임용구, 인형 및 장난감 소매업  서울특별시   강남구   \n",
            "\n",
            "        행정동명         위도          경도  \n",
            "2884     번1동  37.637123  127.025168  \n",
            "4153    구의3동  37.535713  127.095681  \n",
            "4720     평창동  37.609494  126.961377  \n",
            "6872    신길3동  37.509424  126.908372  \n",
            "7528     가회동  37.579811  126.987966  \n",
            "...      ...        ...         ...  \n",
            "474765  이문2동  37.602871  127.064743  \n",
            "476056   서교동  37.556296  126.928072  \n",
            "480746   도화동  37.541237  126.953861  \n",
            "481261   가산동  37.479486  126.884623  \n",
            "481595  논현2동  37.518789  127.039436  \n",
            "\n",
            "[445 rows x 10 columns]\n"
          ]
        }
      ]
    },
    {
      "cell_type": "code",
      "source": [
        "import pandas as pd"
      ],
      "metadata": {
        "id": "VKj_7m1Y7BI9"
      },
      "execution_count": null,
      "outputs": []
    }
  ]
}